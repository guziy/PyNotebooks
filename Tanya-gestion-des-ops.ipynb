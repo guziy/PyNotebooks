{
 "cells": [
  {
   "cell_type": "code",
   "execution_count": 2,
   "id": "9641048a",
   "metadata": {},
   "outputs": [
    {
     "name": "stdout",
     "output_type": "stream",
     "text": [
      "55.12679162072768\n"
     ]
    }
   ],
   "source": [
    "eff = 500/907 * 100\n",
    "print(eff)"
   ]
  },
  {
   "cell_type": "code",
   "execution_count": 4,
   "id": "6dd9c4af",
   "metadata": {},
   "outputs": [
    {
     "name": "stdout",
     "output_type": "stream",
     "text": [
      "52.083333333333336\n"
     ]
    }
   ],
   "source": [
    "taux_dutilisation=500/960 * 100\n",
    "print(taux_dutilisation)"
   ]
  },
  {
   "cell_type": "code",
   "execution_count": null,
   "id": "92947523",
   "metadata": {},
   "outputs": [],
   "source": []
  }
 ],
 "metadata": {
  "kernelspec": {
   "display_name": "Python 3 (ipykernel)",
   "language": "python",
   "name": "python3"
  },
  "language_info": {
   "codemirror_mode": {
    "name": "ipython",
    "version": 3
   },
   "file_extension": ".py",
   "mimetype": "text/x-python",
   "name": "python",
   "nbconvert_exporter": "python",
   "pygments_lexer": "ipython3",
   "version": "3.10.0"
  }
 },
 "nbformat": 4,
 "nbformat_minor": 5
}
