{
 "cells": [
  {
   "cell_type": "code",
   "execution_count": 7,
   "metadata": {},
   "outputs": [],
   "source": [
    "import numpy as np"
   ]
  },
  {
   "cell_type": "code",
   "execution_count": 4,
   "metadata": {},
   "outputs": [],
   "source": [
    "a = np.matrix([[1,2,3,4],[5,6,7,8],[9,10,-11,12],[13,14,15,-16]])"
   ]
  },
  {
   "cell_type": "code",
   "execution_count": 10,
   "metadata": {},
   "outputs": [
    {
     "name": "stdout",
     "output_type": "stream",
     "text": [
      "[[30]\n",
      " [70]\n",
      " [44]\n",
      " [22]]\n"
     ]
    }
   ],
   "source": [
    "x = a*np.matrix([1,2,3,4]).T\n",
    "print x"
   ]
  },
  {
   "cell_type": "code",
   "execution_count": 9,
   "metadata": {},
   "outputs": [
    {
     "data": {
      "text/plain": [
       "matrix([[ 1.],\n",
       "        [ 2.],\n",
       "        [ 3.],\n",
       "        [ 4.]])"
      ]
     },
     "execution_count": 9,
     "metadata": {},
     "output_type": "execute_result"
    }
   ],
   "source": [
    "a.I * x"
   ]
  },
  {
   "cell_type": "code",
   "execution_count": 2,
   "metadata": {},
   "outputs": [
    {
     "data": {
      "text/plain": [
       "31.709791983764585"
      ]
     },
     "execution_count": 2,
     "metadata": {},
     "output_type": "execute_result"
    }
   ],
   "source": [
    "10**9/(60.0*60.0*24*365)"
   ]
  },
  {
   "cell_type": "code",
   "execution_count": 2,
   "metadata": {},
   "outputs": [
    {
     "data": {
      "text/plain": [
       "0.95162581964040482"
      ]
     },
     "execution_count": 2,
     "metadata": {},
     "output_type": "execute_result"
    }
   ],
   "source": [
    "10*(1-np.exp(-0.1))\n",
    "\n"
   ]
  },
  {
   "cell_type": "code",
   "execution_count": 3,
   "metadata": {},
   "outputs": [],
   "source": [
    "def mean_factor(depth, coef = 0.5):\n",
    "    x = coef * depth\n",
    "    return (1.0/x) * (1-np.exp(-x))"
   ]
  },
  {
   "cell_type": "code",
   "execution_count": 5,
   "metadata": {},
   "outputs": [
    {
     "data": {
      "text/plain": [
       "0.1986524106001829"
      ]
     },
     "execution_count": 5,
     "metadata": {},
     "output_type": "execute_result"
    }
   ],
   "source": [
    "mean_factor(10)"
   ]
  },
  {
   "cell_type": "code",
   "execution_count": 6,
   "metadata": {},
   "outputs": [
    {
     "data": {
      "text/plain": [
       "247.5"
      ]
     },
     "execution_count": 6,
     "metadata": {},
     "output_type": "execute_result"
    }
   ],
   "source": [
    "554.5 - 307"
   ]
  },
  {
   "cell_type": "code",
   "execution_count": 8,
   "metadata": {},
   "outputs": [
    {
     "data": {
      "text/plain": [
       "0.41312709387821822"
      ]
     },
     "execution_count": 8,
     "metadata": {},
     "output_type": "execute_result"
    }
   ],
   "source": [
    "np.exp(-0.884)"
   ]
  },
  {
   "cell_type": "code",
   "execution_count": 9,
   "metadata": {},
   "outputs": [
    {
     "data": {
      "text/plain": [
       "12.745695229401848"
      ]
     },
     "execution_count": 9,
     "metadata": {},
     "output_type": "execute_result"
    }
   ],
   "source": [
    "0.884+np.log(60*60.0/(2.54e-2))"
   ]
  },
  {
   "cell_type": "code",
   "execution_count": 5,
   "metadata": {},
   "outputs": [
    {
     "data": {
      "text/plain": [
       "<matplotlib.legend.Legend at 0x105323690>"
      ]
     },
     "execution_count": 5,
     "metadata": {},
     "output_type": "execute_result"
    },
    {
     "data": {
      "image/png": "[encoded data removed]",
      "text/plain": [
       "<matplotlib.figure.Figure at 0x104c3f0d0>"
      ]
     },
     "metadata": {},
     "output_type": "display_data"
    }
   ],
   "source": [
    "import numpy as np\n",
    "def f1(sand):\n",
    "    return np.exp(0.0153*sand - 0.884 - np.log(60*60/(2.54e-2) ))\n",
    "\n",
    "\n",
    "def f3(sand):\n",
    "    return np.exp(0.0126*sand - 0.6 - np.log(60*60/(2.54e-2) ))\n",
    "\n",
    "\n",
    "def f2(sand):\n",
    "    return 7.0556E-6*(np.exp(0.0352*sand-2.035))\n",
    "\n",
    "import matplotlib.pyplot as plt\n",
    "s = np.linspace(0,100,100)\n",
    "plt.plot(s, f1(s), label=\"Sasha1\", lw = 2)\n",
    "plt.plot(s, f3(s), label=\"Sasha2\", lw = 2)\n",
    "\n",
    "plt.plot(s, f2(s), label=\"Diana\", lw = 2)\n",
    "plt.legend()\n"
   ]
  },
  {
   "cell_type": "code",
   "execution_count": 6,
   "metadata": {},
   "outputs": [
    {
     "name": "stdout",
     "output_type": "stream",
     "text": [
      "7.05555555556e-06\n"
     ]
    }
   ],
   "source": [
    "print 2.54e-2/(60.0*60.0)"
   ]
  },
  {
   "cell_type": "code",
   "execution_count": 7,
   "metadata": {},
   "outputs": [
    {
     "data": {
      "text/plain": [
       "6.641509433962264"
      ]
     },
     "execution_count": 7,
     "metadata": {},
     "output_type": "execute_result"
    }
   ],
   "source": [
    "0.352/0.053"
   ]
  },
  {
   "cell_type": "code",
   "execution_count": 8,
   "metadata": {},
   "outputs": [
    {
     "data": {
      "text/plain": [
       "0.8640000000000001"
      ]
     },
     "execution_count": 8,
     "metadata": {},
     "output_type": "execute_result"
    }
   ],
   "source": [
    "1e-8*24*60*60*1000"
   ]
  },
  {
   "cell_type": "code",
   "execution_count": 2,
   "metadata": {},
   "outputs": [
    {
     "data": {
      "text/plain": [
       "True"
      ]
     },
     "execution_count": 2,
     "metadata": {},
     "output_type": "execute_result"
    }
   ],
   "source": [
    "x = [1,23,45,6,7]\n",
    "y = np.cumsum(x)\n",
    "y.tolist()\n",
    "len(y) == len(x)"
   ]
  },
  {
   "cell_type": "code",
   "execution_count": 14,
   "metadata": {},
   "outputs": [
    {
     "data": {
      "text/plain": [
       "0.0060479999999999996"
      ]
     },
     "execution_count": 14,
     "metadata": {},
     "output_type": "execute_result"
    }
   ],
   "source": [
    "7e-8*24*60*60"
   ]
  },
  {
   "cell_type": "code",
   "execution_count": 1,
   "metadata": {},
   "outputs": [
    {
     "data": {
      "text/plain": [
       "52.440000000000005"
      ]
     },
     "execution_count": 1,
     "metadata": {},
     "output_type": "execute_result"
    }
   ],
   "source": [
    "1200*0.0437"
   ]
  },
  {
   "cell_type": "markdown",
   "metadata": {},
   "source": [
    "\n",
    "<div style=\"font-size:300%;\">\n",
    "$$\n",
    "d_t (\\delta h) = P - E\n",
    "$$\n",
    "\n",
    "<br/>\n",
    "\n",
    "$$\n",
    "\\delta h = h(t) - \\bar{h}\n",
    "$$\n",
    "</div>\n"
   ]
  },
  {
   "cell_type": "markdown",
   "metadata": {},
   "source": [
    "<div style=\"font-size:300%;\">\n",
    "$$\n",
    "\\delta h = \\frac{\\delta S}{A_{\\rm lake}}\n",
    "$$\n",
    "\n",
    "</div>"
   ]
  },
  {
   "cell_type": "code",
   "execution_count": 1,
   "metadata": {},
   "outputs": [
    {
     "data": {
      "text/plain": [
       "172800"
      ]
     },
     "execution_count": 1,
     "metadata": {},
     "output_type": "execute_result"
    }
   ],
   "source": [
    "24*3600 * 2"
   ]
  },
  {
   "cell_type": "code",
   "execution_count": 1,
   "metadata": {},
   "outputs": [
    {
     "data": {
      "text/plain": [
       "114048"
      ]
     },
     "execution_count": 1,
     "metadata": {},
     "output_type": "execute_result"
    }
   ],
   "source": [
    "9504 * 12"
   ]
  },
  {
   "cell_type": "code",
   "execution_count": 1,
   "metadata": {},
   "outputs": [],
   "source": [
    "expenses = [-44.52, -273.31, -351.84, -274.75, -137.97, -112.53, -50.98, -88.70]\n",
    "payments = [394.55]"
   ]
  },
  {
   "cell_type": "code",
   "execution_count": 3,
   "metadata": {},
   "outputs": [
    {
     "data": {
      "text/plain": [
       "-940.05"
      ]
     },
     "execution_count": 3,
     "metadata": {},
     "output_type": "execute_result"
    }
   ],
   "source": [
    "sum(expenses) + sum(payments)"
   ]
  },
  {
   "cell_type": "code",
   "execution_count": 2,
   "metadata": {},
   "outputs": [],
   "source": [
    "import pandas as pd\n",
    "from datetime import datetime\n",
    "import matplotlib.pyplot as plt"
   ]
  },
  {
   "cell_type": "code",
   "execution_count": 3,
   "metadata": {},
   "outputs": [],
   "source": [
    "\n",
    "df = pd.read_csv(\"/home/huziy/Downloads/cibc_all.csv\", \n",
    "                 converters={0:lambda tok: datetime.strptime(tok, \"%Y-%m-%d\")}, header=None)"
   ]
  },
  {
   "cell_type": "code",
   "execution_count": 4,
   "metadata": {},
   "outputs": [
    {
     "data": {
      "text/html": [
       "<div>\n",
       "<style scoped>\n",
       "    .dataframe tbody tr th:only-of-type {\n",
       "        vertical-align: middle;\n",
       "    }\n",
       "\n",
       "    .dataframe tbody tr th {\n",
       "        vertical-align: top;\n",
       "    }\n",
       "\n",
       "    .dataframe thead th {\n",
       "        text-align: right;\n",
       "    }\n",
       "</style>\n",
       "<table border=\"1\" class=\"dataframe\">\n",
       "  <thead>\n",
       "    <tr style=\"text-align: right;\">\n",
       "      <th></th>\n",
       "      <th>0</th>\n",
       "      <th>1</th>\n",
       "      <th>2</th>\n",
       "      <th>3</th>\n",
       "      <th>4</th>\n",
       "    </tr>\n",
       "  </thead>\n",
       "  <tbody>\n",
       "    <tr>\n",
       "      <th>0</th>\n",
       "      <td>2022-08-16</td>\n",
       "      <td>COSTCO WHOLESALE W505 LAVAL, QC</td>\n",
       "      <td>273.31</td>\n",
       "      <td>NaN</td>\n",
       "      <td>5223********7179</td>\n",
       "    </tr>\n",
       "    <tr>\n",
       "      <th>1</th>\n",
       "      <td>2022-08-16</td>\n",
       "      <td>COSTCO ESSENCE W505 LAVAL, QC</td>\n",
       "      <td>44.52</td>\n",
       "      <td>NaN</td>\n",
       "      <td>5223********7179</td>\n",
       "    </tr>\n",
       "    <tr>\n",
       "      <th>2</th>\n",
       "      <td>2022-08-15</td>\n",
       "      <td>COSTCO WHOLESALE W505 LAVAL, QC</td>\n",
       "      <td>351.84</td>\n",
       "      <td>NaN</td>\n",
       "      <td>5223********7179</td>\n",
       "    </tr>\n",
       "    <tr>\n",
       "      <th>3</th>\n",
       "      <td>2022-08-02</td>\n",
       "      <td>PAYMENT THANK YOU/PAIEMEN T MERCI</td>\n",
       "      <td>NaN</td>\n",
       "      <td>394.55</td>\n",
       "      <td>5223********0513</td>\n",
       "    </tr>\n",
       "    <tr>\n",
       "      <th>4</th>\n",
       "      <td>2022-08-02</td>\n",
       "      <td>COSTCO ENTREPRISE #144 ANJOU, QC</td>\n",
       "      <td>274.75</td>\n",
       "      <td>NaN</td>\n",
       "      <td>5223********7179</td>\n",
       "    </tr>\n",
       "    <tr>\n",
       "      <th>...</th>\n",
       "      <td>...</td>\n",
       "      <td>...</td>\n",
       "      <td>...</td>\n",
       "      <td>...</td>\n",
       "      <td>...</td>\n",
       "    </tr>\n",
       "    <tr>\n",
       "      <th>97</th>\n",
       "      <td>2021-09-13</td>\n",
       "      <td>COSTCO WHOLESALE W546 BOISBRIAND, QC</td>\n",
       "      <td>72.78</td>\n",
       "      <td>NaN</td>\n",
       "      <td>5223********7179</td>\n",
       "    </tr>\n",
       "    <tr>\n",
       "      <th>98</th>\n",
       "      <td>2021-09-11</td>\n",
       "      <td>COSTCO ESSENCE W505 LAVAL, QC</td>\n",
       "      <td>39.58</td>\n",
       "      <td>NaN</td>\n",
       "      <td>5223********7179</td>\n",
       "    </tr>\n",
       "    <tr>\n",
       "      <th>99</th>\n",
       "      <td>2021-09-11</td>\n",
       "      <td>COSTCO WHOLESALE W505 LAVAL, QC</td>\n",
       "      <td>291.51</td>\n",
       "      <td>NaN</td>\n",
       "      <td>5223********7179</td>\n",
       "    </tr>\n",
       "    <tr>\n",
       "      <th>100</th>\n",
       "      <td>2021-09-08</td>\n",
       "      <td>PAYMENT</td>\n",
       "      <td>NaN</td>\n",
       "      <td>540.70</td>\n",
       "      <td>5223********0513</td>\n",
       "    </tr>\n",
       "    <tr>\n",
       "      <th>101</th>\n",
       "      <td>2021-09-03</td>\n",
       "      <td>COSTCO WHOLESALE W546 BOISBRIAND, QC</td>\n",
       "      <td>260.14</td>\n",
       "      <td>NaN</td>\n",
       "      <td>5223********7179</td>\n",
       "    </tr>\n",
       "  </tbody>\n",
       "</table>\n",
       "<p>102 rows × 5 columns</p>\n",
       "</div>"
      ],
      "text/plain": [
       "             0                                     1       2       3  \\\n",
       "0   2022-08-16       COSTCO WHOLESALE W505 LAVAL, QC  273.31     NaN   \n",
       "1   2022-08-16         COSTCO ESSENCE W505 LAVAL, QC   44.52     NaN   \n",
       "2   2022-08-15       COSTCO WHOLESALE W505 LAVAL, QC  351.84     NaN   \n",
       "3   2022-08-02     PAYMENT THANK YOU/PAIEMEN T MERCI     NaN  394.55   \n",
       "4   2022-08-02      COSTCO ENTREPRISE #144 ANJOU, QC  274.75     NaN   \n",
       "..         ...                                   ...     ...     ...   \n",
       "97  2021-09-13  COSTCO WHOLESALE W546 BOISBRIAND, QC   72.78     NaN   \n",
       "98  2021-09-11         COSTCO ESSENCE W505 LAVAL, QC   39.58     NaN   \n",
       "99  2021-09-11       COSTCO WHOLESALE W505 LAVAL, QC  291.51     NaN   \n",
       "100 2021-09-08                               PAYMENT     NaN  540.70   \n",
       "101 2021-09-03  COSTCO WHOLESALE W546 BOISBRIAND, QC  260.14     NaN   \n",
       "\n",
       "                    4  \n",
       "0    5223********7179  \n",
       "1    5223********7179  \n",
       "2    5223********7179  \n",
       "3    5223********0513  \n",
       "4    5223********7179  \n",
       "..                ...  \n",
       "97   5223********7179  \n",
       "98   5223********7179  \n",
       "99   5223********7179  \n",
       "100  5223********0513  \n",
       "101  5223********7179  \n",
       "\n",
       "[102 rows x 5 columns]"
      ]
     },
     "execution_count": 4,
     "metadata": {},
     "output_type": "execute_result"
    }
   ],
   "source": [
    "df"
   ]
  },
  {
   "cell_type": "code",
   "execution_count": 23,
   "metadata": {},
   "outputs": [
    {
     "data": {
      "text/plain": [
       "(12403.119999999999, 11349.08, 1054.039999999999)"
      ]
     },
     "execution_count": 23,
     "metadata": {},
     "output_type": "execute_result"
    }
   ],
   "source": [
    "df[2].sum(), df[3].sum(), df[2].sum() - df[3].sum()"
   ]
  },
  {
   "cell_type": "code",
   "execution_count": 25,
   "metadata": {},
   "outputs": [
    {
     "data": {
      "text/plain": [
       "<AxesSubplot:xlabel='0'>"
      ]
     },
     "execution_count": 25,
     "metadata": {},
     "output_type": "execute_result"
    },
    {
     "data": {
      "image/png": "[encoded data removed]",
      "text/plain": [
       "<Figure size 432x288 with 1 Axes>"
      ]
     },
     "metadata": {
      "needs_background": "light"
     },
     "output_type": "display_data"
    }
   ],
   "source": [
    "ax = df.plot(x=0, y=2, label=\"Expenses\")\n",
    "df.plot(x=0,y=3, label=\"Payments\", ax=ax)\n"
   ]
  },
  {
   "cell_type": "code",
   "execution_count": 5,
   "metadata": {},
   "outputs": [
    {
     "data": {
      "text/html": [
       "<div>\n",
       "<style scoped>\n",
       "    .dataframe tbody tr th:only-of-type {\n",
       "        vertical-align: middle;\n",
       "    }\n",
       "\n",
       "    .dataframe tbody tr th {\n",
       "        vertical-align: top;\n",
       "    }\n",
       "\n",
       "    .dataframe thead th {\n",
       "        text-align: right;\n",
       "    }\n",
       "</style>\n",
       "<table border=\"1\" class=\"dataframe\">\n",
       "  <thead>\n",
       "    <tr style=\"text-align: right;\">\n",
       "      <th></th>\n",
       "      <th>0</th>\n",
       "      <th>1</th>\n",
       "      <th>2</th>\n",
       "      <th>3</th>\n",
       "      <th>4</th>\n",
       "    </tr>\n",
       "  </thead>\n",
       "  <tbody>\n",
       "    <tr>\n",
       "      <th>3</th>\n",
       "      <td>2022-08-02</td>\n",
       "      <td>PAYMENT THANK YOU/PAIEMEN T MERCI</td>\n",
       "      <td>NaN</td>\n",
       "      <td>394.55</td>\n",
       "      <td>5223********0513</td>\n",
       "    </tr>\n",
       "    <tr>\n",
       "      <th>12</th>\n",
       "      <td>2022-07-21</td>\n",
       "      <td>PAYMENT THANK YOU/PAIEMEN T MERCI</td>\n",
       "      <td>NaN</td>\n",
       "      <td>345.70</td>\n",
       "      <td>5223********0513</td>\n",
       "    </tr>\n",
       "    <tr>\n",
       "      <th>15</th>\n",
       "      <td>2022-07-15</td>\n",
       "      <td>PAYMENT THANK YOU/PAIEMEN T MERCI</td>\n",
       "      <td>NaN</td>\n",
       "      <td>24.35</td>\n",
       "      <td>5223********0513</td>\n",
       "    </tr>\n",
       "    <tr>\n",
       "      <th>17</th>\n",
       "      <td>2022-07-11</td>\n",
       "      <td>PAYMENT THANK YOU/PAIEMEN T MERCI</td>\n",
       "      <td>NaN</td>\n",
       "      <td>379.06</td>\n",
       "      <td>5223********0513</td>\n",
       "    </tr>\n",
       "    <tr>\n",
       "      <th>20</th>\n",
       "      <td>2022-06-30</td>\n",
       "      <td>PAYMENT THANK YOU/PAIEMEN T MERCI</td>\n",
       "      <td>NaN</td>\n",
       "      <td>190.85</td>\n",
       "      <td>5223********0513</td>\n",
       "    </tr>\n",
       "    <tr>\n",
       "      <th>22</th>\n",
       "      <td>2022-06-23</td>\n",
       "      <td>PAYMENT THANK YOU/PAIEMEN T MERCI</td>\n",
       "      <td>NaN</td>\n",
       "      <td>216.66</td>\n",
       "      <td>5223********0513</td>\n",
       "    </tr>\n",
       "    <tr>\n",
       "      <th>24</th>\n",
       "      <td>2022-06-09</td>\n",
       "      <td>PAYMENT THANK YOU/PAIEMEN T MERCI</td>\n",
       "      <td>NaN</td>\n",
       "      <td>349.29</td>\n",
       "      <td>5223********0513</td>\n",
       "    </tr>\n",
       "    <tr>\n",
       "      <th>27</th>\n",
       "      <td>2022-05-26</td>\n",
       "      <td>PAYMENT THANK YOU/PAIEMEN T MERCI</td>\n",
       "      <td>NaN</td>\n",
       "      <td>390.37</td>\n",
       "      <td>5223********0513</td>\n",
       "    </tr>\n",
       "    <tr>\n",
       "      <th>30</th>\n",
       "      <td>2022-05-17</td>\n",
       "      <td>PRIME DE BIENVENUE</td>\n",
       "      <td>NaN</td>\n",
       "      <td>20.00</td>\n",
       "      <td>5223********0513</td>\n",
       "    </tr>\n",
       "    <tr>\n",
       "      <th>31</th>\n",
       "      <td>2022-05-17</td>\n",
       "      <td>PAYMENT THANK YOU/PAIEMEN T MERCI</td>\n",
       "      <td>NaN</td>\n",
       "      <td>385.88</td>\n",
       "      <td>5223********0513</td>\n",
       "    </tr>\n",
       "    <tr>\n",
       "      <th>35</th>\n",
       "      <td>2022-04-27</td>\n",
       "      <td>PAYMENT THANK YOU/PAIEMEN T MERCI</td>\n",
       "      <td>NaN</td>\n",
       "      <td>180.13</td>\n",
       "      <td>5223********0513</td>\n",
       "    </tr>\n",
       "    <tr>\n",
       "      <th>37</th>\n",
       "      <td>2022-04-22</td>\n",
       "      <td>PAYMENT THANK YOU/PAIEMEN T MERCI</td>\n",
       "      <td>NaN</td>\n",
       "      <td>616.51</td>\n",
       "      <td>5223********0513</td>\n",
       "    </tr>\n",
       "    <tr>\n",
       "      <th>41</th>\n",
       "      <td>2022-04-06</td>\n",
       "      <td>PAYMENT THANK YOU/PAIEMEN T MERCI</td>\n",
       "      <td>NaN</td>\n",
       "      <td>456.34</td>\n",
       "      <td>5223********0513</td>\n",
       "    </tr>\n",
       "    <tr>\n",
       "      <th>44</th>\n",
       "      <td>2022-03-24</td>\n",
       "      <td>PAYMENT THANK YOU/PAIEMEN T MERCI</td>\n",
       "      <td>NaN</td>\n",
       "      <td>345.97</td>\n",
       "      <td>5223********0513</td>\n",
       "    </tr>\n",
       "    <tr>\n",
       "      <th>46</th>\n",
       "      <td>2022-03-17</td>\n",
       "      <td>PAYMENT THANK YOU/PAIEMEN T MERCI</td>\n",
       "      <td>NaN</td>\n",
       "      <td>1218.45</td>\n",
       "      <td>5223********0513</td>\n",
       "    </tr>\n",
       "    <tr>\n",
       "      <th>47</th>\n",
       "      <td>2022-03-14</td>\n",
       "      <td>PAYMENT THANK YOU/PAIEMEN T MERCI</td>\n",
       "      <td>NaN</td>\n",
       "      <td>10.00</td>\n",
       "      <td>5223********0513</td>\n",
       "    </tr>\n",
       "    <tr>\n",
       "      <th>52</th>\n",
       "      <td>2022-02-14</td>\n",
       "      <td>PAYMENT</td>\n",
       "      <td>NaN</td>\n",
       "      <td>604.21</td>\n",
       "      <td>5223********0513</td>\n",
       "    </tr>\n",
       "    <tr>\n",
       "      <th>57</th>\n",
       "      <td>2022-01-31</td>\n",
       "      <td>PAYMENT</td>\n",
       "      <td>NaN</td>\n",
       "      <td>596.47</td>\n",
       "      <td>5223********0513</td>\n",
       "    </tr>\n",
       "    <tr>\n",
       "      <th>61</th>\n",
       "      <td>2022-01-10</td>\n",
       "      <td>PAYMENT</td>\n",
       "      <td>NaN</td>\n",
       "      <td>428.04</td>\n",
       "      <td>5223********0513</td>\n",
       "    </tr>\n",
       "    <tr>\n",
       "      <th>65</th>\n",
       "      <td>2021-12-29</td>\n",
       "      <td>PAYMENT</td>\n",
       "      <td>NaN</td>\n",
       "      <td>327.06</td>\n",
       "      <td>5223********0513</td>\n",
       "    </tr>\n",
       "    <tr>\n",
       "      <th>68</th>\n",
       "      <td>2021-12-13</td>\n",
       "      <td>PAYMENT</td>\n",
       "      <td>NaN</td>\n",
       "      <td>244.14</td>\n",
       "      <td>5223********0513</td>\n",
       "    </tr>\n",
       "    <tr>\n",
       "      <th>70</th>\n",
       "      <td>2021-12-04</td>\n",
       "      <td>COSTCO WHOLESALE W505 LAVAL, QC</td>\n",
       "      <td>NaN</td>\n",
       "      <td>22.98</td>\n",
       "      <td>5223********7179</td>\n",
       "    </tr>\n",
       "    <tr>\n",
       "      <th>71</th>\n",
       "      <td>2021-11-29</td>\n",
       "      <td>PAYMENT</td>\n",
       "      <td>NaN</td>\n",
       "      <td>393.24</td>\n",
       "      <td>5223********0513</td>\n",
       "    </tr>\n",
       "    <tr>\n",
       "      <th>75</th>\n",
       "      <td>2021-11-22</td>\n",
       "      <td>PAYMENT</td>\n",
       "      <td>NaN</td>\n",
       "      <td>372.16</td>\n",
       "      <td>5223********0513</td>\n",
       "    </tr>\n",
       "    <tr>\n",
       "      <th>79</th>\n",
       "      <td>2021-11-08</td>\n",
       "      <td>PAYMENT</td>\n",
       "      <td>NaN</td>\n",
       "      <td>597.71</td>\n",
       "      <td>5223********0513</td>\n",
       "    </tr>\n",
       "    <tr>\n",
       "      <th>84</th>\n",
       "      <td>2021-10-14</td>\n",
       "      <td>PAYMENT</td>\n",
       "      <td>NaN</td>\n",
       "      <td>344.57</td>\n",
       "      <td>5223********0513</td>\n",
       "    </tr>\n",
       "    <tr>\n",
       "      <th>86</th>\n",
       "      <td>2021-10-07</td>\n",
       "      <td>PAYMENT</td>\n",
       "      <td>NaN</td>\n",
       "      <td>189.88</td>\n",
       "      <td>5223********0513</td>\n",
       "    </tr>\n",
       "    <tr>\n",
       "      <th>90</th>\n",
       "      <td>2021-09-27</td>\n",
       "      <td>PAYMENT</td>\n",
       "      <td>NaN</td>\n",
       "      <td>368.58</td>\n",
       "      <td>5223********0513</td>\n",
       "    </tr>\n",
       "    <tr>\n",
       "      <th>91</th>\n",
       "      <td>2021-09-20</td>\n",
       "      <td>COSTCO WHOLESALE W505 LAVAL, QC</td>\n",
       "      <td>NaN</td>\n",
       "      <td>43.67</td>\n",
       "      <td>5223********7179</td>\n",
       "    </tr>\n",
       "    <tr>\n",
       "      <th>92</th>\n",
       "      <td>2021-09-20</td>\n",
       "      <td>COSTCO WHOLESALE W505 LAVAL, QC</td>\n",
       "      <td>NaN</td>\n",
       "      <td>15.00</td>\n",
       "      <td>5223********7179</td>\n",
       "    </tr>\n",
       "    <tr>\n",
       "      <th>95</th>\n",
       "      <td>2021-09-15</td>\n",
       "      <td>PAYMENT</td>\n",
       "      <td>NaN</td>\n",
       "      <td>736.56</td>\n",
       "      <td>5223********0513</td>\n",
       "    </tr>\n",
       "    <tr>\n",
       "      <th>100</th>\n",
       "      <td>2021-09-08</td>\n",
       "      <td>PAYMENT</td>\n",
       "      <td>NaN</td>\n",
       "      <td>540.70</td>\n",
       "      <td>5223********0513</td>\n",
       "    </tr>\n",
       "  </tbody>\n",
       "</table>\n",
       "</div>"
      ],
      "text/plain": [
       "             0                                  1   2        3  \\\n",
       "3   2022-08-02  PAYMENT THANK YOU/PAIEMEN T MERCI NaN   394.55   \n",
       "12  2022-07-21  PAYMENT THANK YOU/PAIEMEN T MERCI NaN   345.70   \n",
       "15  2022-07-15  PAYMENT THANK YOU/PAIEMEN T MERCI NaN    24.35   \n",
       "17  2022-07-11  PAYMENT THANK YOU/PAIEMEN T MERCI NaN   379.06   \n",
       "20  2022-06-30  PAYMENT THANK YOU/PAIEMEN T MERCI NaN   190.85   \n",
       "22  2022-06-23  PAYMENT THANK YOU/PAIEMEN T MERCI NaN   216.66   \n",
       "24  2022-06-09  PAYMENT THANK YOU/PAIEMEN T MERCI NaN   349.29   \n",
       "27  2022-05-26  PAYMENT THANK YOU/PAIEMEN T MERCI NaN   390.37   \n",
       "30  2022-05-17                 PRIME DE BIENVENUE NaN    20.00   \n",
       "31  2022-05-17  PAYMENT THANK YOU/PAIEMEN T MERCI NaN   385.88   \n",
       "35  2022-04-27  PAYMENT THANK YOU/PAIEMEN T MERCI NaN   180.13   \n",
       "37  2022-04-22  PAYMENT THANK YOU/PAIEMEN T MERCI NaN   616.51   \n",
       "41  2022-04-06  PAYMENT THANK YOU/PAIEMEN T MERCI NaN   456.34   \n",
       "44  2022-03-24  PAYMENT THANK YOU/PAIEMEN T MERCI NaN   345.97   \n",
       "46  2022-03-17  PAYMENT THANK YOU/PAIEMEN T MERCI NaN  1218.45   \n",
       "47  2022-03-14  PAYMENT THANK YOU/PAIEMEN T MERCI NaN    10.00   \n",
       "52  2022-02-14                            PAYMENT NaN   604.21   \n",
       "57  2022-01-31                            PAYMENT NaN   596.47   \n",
       "61  2022-01-10                            PAYMENT NaN   428.04   \n",
       "65  2021-12-29                            PAYMENT NaN   327.06   \n",
       "68  2021-12-13                            PAYMENT NaN   244.14   \n",
       "70  2021-12-04    COSTCO WHOLESALE W505 LAVAL, QC NaN    22.98   \n",
       "71  2021-11-29                            PAYMENT NaN   393.24   \n",
       "75  2021-11-22                            PAYMENT NaN   372.16   \n",
       "79  2021-11-08                            PAYMENT NaN   597.71   \n",
       "84  2021-10-14                            PAYMENT NaN   344.57   \n",
       "86  2021-10-07                            PAYMENT NaN   189.88   \n",
       "90  2021-09-27                            PAYMENT NaN   368.58   \n",
       "91  2021-09-20    COSTCO WHOLESALE W505 LAVAL, QC NaN    43.67   \n",
       "92  2021-09-20    COSTCO WHOLESALE W505 LAVAL, QC NaN    15.00   \n",
       "95  2021-09-15                            PAYMENT NaN   736.56   \n",
       "100 2021-09-08                            PAYMENT NaN   540.70   \n",
       "\n",
       "                    4  \n",
       "3    5223********0513  \n",
       "12   5223********0513  \n",
       "15   5223********0513  \n",
       "17   5223********0513  \n",
       "20   5223********0513  \n",
       "22   5223********0513  \n",
       "24   5223********0513  \n",
       "27   5223********0513  \n",
       "30   5223********0513  \n",
       "31   5223********0513  \n",
       "35   5223********0513  \n",
       "37   5223********0513  \n",
       "41   5223********0513  \n",
       "44   5223********0513  \n",
       "46   5223********0513  \n",
       "47   5223********0513  \n",
       "52   5223********0513  \n",
       "57   5223********0513  \n",
       "61   5223********0513  \n",
       "65   5223********0513  \n",
       "68   5223********0513  \n",
       "70   5223********7179  \n",
       "71   5223********0513  \n",
       "75   5223********0513  \n",
       "79   5223********0513  \n",
       "84   5223********0513  \n",
       "86   5223********0513  \n",
       "90   5223********0513  \n",
       "91   5223********7179  \n",
       "92   5223********7179  \n",
       "95   5223********0513  \n",
       "100  5223********0513  "
      ]
     },
     "execution_count": 5,
     "metadata": {},
     "output_type": "execute_result"
    }
   ],
   "source": [
    "df.loc[~df[3].isna(),:]"
   ]
  },
  {
   "cell_type": "code",
   "execution_count": 12,
   "metadata": {},
   "outputs": [
    {
     "data": {
      "text/plain": [
       "<AxesSubplot:xlabel='0'>"
      ]
     },
     "execution_count": 12,
     "metadata": {},
     "output_type": "execute_result"
    },
    {
     "data": {
      "image/png": "[encoded data removed]",
      "text/plain": [
       "<Figure size 432x288 with 1 Axes>"
      ]
     },
     "metadata": {
      "needs_background": "light"
     },
     "output_type": "display_data"
    }
   ],
   "source": [
    "ax = df.loc[~df[2].isna(),:].plot(x=0,y=2, label=\"Expenses\")\n",
    "df.loc[~df[3].isna(),:].plot(x=0,y=3, label=\"Payments\", ax=ax)\n"
   ]
  },
  {
   "cell_type": "code",
   "execution_count": 29,
   "metadata": {},
   "outputs": [
    {
     "data": {
      "text/plain": [
       "12403.119999999999"
      ]
     },
     "execution_count": 29,
     "metadata": {},
     "output_type": "execute_result"
    }
   ],
   "source": [
    "df[2].sum()"
   ]
  },
  {
   "cell_type": "code",
   "execution_count": null,
   "metadata": {},
   "outputs": [],
   "source": []
  }
 ],
 "metadata": {
  "kernelspec": {
   "display_name": "Python 3 (ipykernel)",
   "language": "python",
   "name": "python3"
  },
  "language_info": {
   "codemirror_mode": {
    "name": "ipython",
    "version": 3
   },
   "file_extension": ".py",
   "mimetype": "text/x-python",
   "name": "python",
   "nbconvert_exporter": "python",
   "pygments_lexer": "ipython3",
   "version": "3.10.0"
  }
 },
 "nbformat": 4,
 "nbformat_minor": 1
}
