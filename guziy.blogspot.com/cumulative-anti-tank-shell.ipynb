{
 "cells": [
  {
   "cell_type": "markdown",
   "metadata": {},
   "source": [
    "\n",
    "### Introduction and problem statement\n",
    "This problem, as many others appearing here, took me a lot of time to wrap my head around. I almost lost faith, even tried to ask ChatGPT to solve it for me few times, but ChatGPT's solution was wrong or completely obscure for me.\n",
    "\n",
    "Here is the problem statement (translated by ChatGPT from the Savchenko et al 1981 book).\n",
    "\n",
    "**Problem statement:** In 1941, the Germans invented a cumulative anti-tank shell. The shell has a fuse on its front part, which, upon impact, causes detonation and ignites the entire charge. The shell penetrates the armor. In 1944, such German shells came into the hands of both the Soviets and their allies. Extensive experiments began. Various additional effects and paradoxes were discovered. The researchers started to investigate what exactly was penetrating the armor. At first, they thought it was a jet of hot gas that burns through the armor. However, it turned out that metal jet is piercing through the armor traveling in a very puzzling way: in front of the plate at a speed of $v_{0} = {\\rm 8\\;km/s}$, inside the plate at ${\\rm 4\\;km/s}$, and behind the armor plate again at ${\\rm 8\\;km/s}$. \n",
    "\n",
    "Explain this phenomenon and determine the speed of the metal wall of the conical cavity covering the charge, given that the cone’s vertex angle is 30°.\n",
    "\n",
    "\n",
    "I have to admit that the translation is pretty accurate.\n"
   ]
  },
  {
   "cell_type": "markdown",
   "metadata": {},
   "source": [
    "\n",
    "<div>\n",
    "<img src=\"./cumulative-shell-page1.svg\" width=\"60%\"/>\n",
    "    <h4>Figure 1: Cross-section of cumulative shell heading towards the armored wall.</h4>\n",
    "</div>\n",
    "\n"
   ]
  },
  {
   "cell_type": "markdown",
   "metadata": {},
   "source": [
    "\n",
    "### Solution\n",
    "\n",
    "The problem consists of two parts. The first one asks to explain the phenomenon and the second one asks to determine the speed of the collpasing conical wall that is separating the fuse and the explosive charge of the shell, this collapsing wall is forming the metal jet piercing throught the armor. I'll proceed in the order I solved it initially, starting with the part 2.\n"
   ]
  },
  {
   "cell_type": "markdown",
   "metadata": {},
   "source": [
    "\n",
    "#### Part 2\n",
    "Let's determine the speed of the conical wall collapsing into the jet flowing onto the armor at a speed of $v_{0} = {\\rm 8\\;km/s}$ as shown in Fig. 2.\n",
    "\n",
    "<div>\n",
    "<img src=\"./cumulative-shell-page2.svg\" width=\"60%\" />\n",
    "    <h4>Figure 2: Cross-section of the upper part of the collapsing conical wall.</h4>\n",
    "</div>"
   ]
  },
  {
   "cell_type": "markdown",
   "metadata": {},
   "source": [
    "\n",
    "#### Part 1\n",
    "\n",
    "\n",
    "<div>\n",
    "<img src=\"./cumulative-shell-page3.svg\" width=\"60%\"/>\n",
    "    <h4>Figure 3: Metallic jet formed from the collapsed conic wall prior to piercing through the armored wall.</h4>\n",
    "</div>\n",
    "\n"
   ]
  },
  {
   "cell_type": "markdown",
   "metadata": {},
   "source": [
    "<div>\n",
    "<img src=\"./cumulative-shell-page4.svg\" width=\"90%\"/>\n",
    "    <h4>Figure 4: Metallic jet formed from the collapsed conic wall after piercing through the armored wall, after the stationary flow regime is established.</h4>\n",
    "</div>\n"
   ]
  },
  {
   "cell_type": "code",
   "execution_count": null,
   "metadata": {},
   "outputs": [],
   "source": []
  }
 ],
 "metadata": {
  "kernelspec": {
   "display_name": "Python 3 (ipykernel)",
   "language": "python",
   "name": "python3"
  },
  "language_info": {
   "codemirror_mode": {
    "name": "ipython",
    "version": 3
   },
   "file_extension": ".py",
   "mimetype": "text/x-python",
   "name": "python",
   "nbconvert_exporter": "python",
   "pygments_lexer": "ipython3",
   "version": "3.11.8"
  }
 },
 "nbformat": 4,
 "nbformat_minor": 4
}
