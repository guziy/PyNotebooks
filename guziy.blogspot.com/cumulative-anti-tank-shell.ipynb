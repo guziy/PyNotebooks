{
 "cells": [
  {
   "cell_type": "markdown",
   "metadata": {},
   "source": [
    "\n",
    "### Introduction and problem statement\n",
    "This problem, as many others appearing here, took me a lot of time to wrap my head around. I almost lost faith, even tried to ask ChatGPT to solve it for me few times, but ChatGPT's solution was wrong or completely obscure for me.\n",
    "\n",
    "Here is the problem statement (translated by ChatGPT from the Savchenko et al 1981 book).\n",
    "\n",
    "**Problem statement:** In 1941, the Germans invented a cumulative anti-tank shell. The shell has a fuse on its front part, which, upon impact, causes detonation and ignites the entire charge. The shell penetrates the armor. In 1944, such German shells came into the hands of both the Soviets and their allies. Extensive experiments began. Various additional effects and paradoxes were discovered. The researchers started to investigate what exactly was penetrating the armor. At first, they thought it was a jet of hot gas that burns through the armor. However, it turned out that metal jet is piercing through the armor traveling in a very puzzling way: in front of the plate at a speed of $v_{0} = {\\rm 8\\;km/s}$, inside the plate at ${\\rm 4\\;km/s}$, and behind the armor plate again at ${\\rm 8\\;km/s}$. \n",
    "\n",
    "Explain this phenomenon and determine the speed of the metal wall of the conical cavity covering the charge, given that the cone’s vertex angle is 30°.\n",
    "\n",
    "\n",
    "I have to admit that the translation is pretty accurate.\n"
   ]
  },
  {
   "cell_type": "markdown",
   "metadata": {},
   "source": [
    "\n",
    "<div>\n",
    "<img src=\"./cumulative-shell-page1.svg\" width=\"70%\"/>\n",
    "    <h5>Figure 1: Cross-section of cumulative shell heading towards the armored wall.</h5>\n",
    "</div>\n",
    "\n"
   ]
  },
  {
   "cell_type": "markdown",
   "metadata": {},
   "source": [
    "\n",
    "### Solution\n",
    "\n",
    "The problem consists of two parts. The first one asks to explain the phenomenon and the second one asks to determine the speed of the collpasing conical wall that is separating the fuse and the explosive charge of the shell, this collapsing wall is forming the metal jet piercing throught the armor. I'll proceed in the order I solved it initially, starting with the part 2.\n"
   ]
  },
  {
   "cell_type": "markdown",
   "metadata": {},
   "source": [
    "\n",
    "#### Part 2\n",
    "Let's determine the speed of the conical wall collapsing into the jet flowing onto the armor at a speed of $v_{0} = {\\rm 8\\;km/s}$ as shown in Fig. 2. We focus here only on the upper part of the conical wall cross-section ($AB$, see Fig. 1 as well).\n",
    "\n",
    "The breaking moment for me here was to realize that the velocity of the conical wall is orthogonal to its surface ($\\vec{v}$ in Fig. 2). Since it is collapsing under the pressure force of the gas/liquid created to the left of the cone surface after the explosion of the charge.\n",
    "\n",
    "<div>\n",
    "<img src=\"./cumulative-shell-page2.svg\" width=\"60%\" />\n",
    "    <h5>Figure 2: Cross-section of the upper part of the collapsing conical wall.</h5>\n",
    "    <br/>\n",
    "</div>\n",
    "\n",
    "\n",
    "Let's consider a reference frame in which the cone material flows along the cone surface at speed $\\vec{v}_1$. This reference frame is moving to the right at a horizontal speed $\\vec{u}_1$, so that the following relation is satisfied:\n",
    "\n",
    "\\begin{equation}\n",
    "\\vec{v} - \\vec{u} = \\vec{v}_1\n",
    "\\end{equation}\n",
    "\n",
    "In this reference frame the horizontal part of the jet is moving at speed $\\left|\\vec{v}_1\\right| = v_1$ (here and below we ommit the arrow to denote scalar variables). This is relatively easy to prove using energy conservation. In summary we have the following system of equations:\n",
    "\n",
    "\\begin{align}\n",
    "    \\begin{cases}\n",
    "        \\vec{v} - \\vec{u} = \\vec{v}_1\\\\\n",
    "        v_0 - u = v_1\\\\\n",
    "    \\end{cases}\n",
    "\\end{align}\n",
    "\n",
    "From the triangle form by the speed vectors in Fig. 2 we get:\n",
    "\\begin{align}\n",
    "    \\begin{cases}\n",
    "        v_1 = v / \\tan\\left(\\frac{\\alpha}{2}\\right)\\\\\n",
    "        u = v / \\sin\\left(\\frac{\\alpha}{2}\\right)\n",
    "    \\end{cases}\n",
    "\\end{align}\n",
    "\n",
    "Now using the last two equations and the relation $v_0 - u = v_1$ we get an equation with respect to $v$:\n",
    "\n",
    "\\begin{align*}\n",
    "v_0 - u = v_1 & \\Rightarrow v_0 -  v / \\sin\\left(\\frac{\\alpha}{2}\\right) = v / \\tan\\left(\\frac{\\alpha}{2}\\right) \\\\\n",
    "&\\\\\n",
    "              & \\Rightarrow \\boxed{v = \\frac{v_0 \\sin\\left(\\alpha/2\\right)}{1 + \\cos\\left(\\alpha/2\\right)}}\\\\\n",
    "&\\\\\n",
    "&              \\Rightarrow v\\approx 1.05\\:{\\rm km/s}              \n",
    "\\end{align*}\n"
   ]
  },
  {
   "cell_type": "markdown",
   "metadata": {},
   "source": [
    "\n",
    "#### Part 1\n",
    "\n",
    "\n",
    "<div>\n",
    "<img src=\"./cumulative-shell-page3.svg\" width=\"60%\"/>\n",
    "    <h5>Figure 3: Metallic jet formed from the collapsed conic wall prior to piercing through the armored wall.</h5>\n",
    "    <br/>\n",
    "</div>\n",
    "\n"
   ]
  },
  {
   "cell_type": "markdown",
   "metadata": {},
   "source": [
    "<div>\n",
    "<img src=\"./cumulative-shell-page4.svg\" width=\"90%\"/>\n",
    "    <h5>Figure 4: Metallic jet formed from the collapsed conic wall after piercing through the armored wall, after the stationary flow regime is established.</h5>\n",
    "</div>\n",
    "<br/>"
   ]
  },
  {
   "cell_type": "code",
   "execution_count": null,
   "metadata": {},
   "outputs": [],
   "source": []
  }
 ],
 "metadata": {
  "kernelspec": {
   "display_name": "Python 3 (ipykernel)",
   "language": "python",
   "name": "python3"
  },
  "language_info": {
   "codemirror_mode": {
    "name": "ipython",
    "version": 3
   },
   "file_extension": ".py",
   "mimetype": "text/x-python",
   "name": "python",
   "nbconvert_exporter": "python",
   "pygments_lexer": "ipython3",
   "version": "3.11.8"
  }
 },
 "nbformat": 4,
 "nbformat_minor": 4
}
