{
 "cells": [
  {
   "cell_type": "markdown",
   "metadata": {},
   "source": [
    "## Physics problem: calculating the tension of ropes tying together timbers of a raft\n",
    "\n",
    "This problem comes from my usual source of inspiration, the book by Savchenko et al., from the section on floating bodies and Archimedes' force. I spent a considerable amount of time to figure this one out, mostly because the answers in the edition I have and in the newer edition do not match. Another reason I could not get the correct answer is that I did not think that we should account that there are actually two ropes one at the front and the second is at the back of the raft.\n",
    "\n",
    "**Here is the problem statement:** Consider two rows of wooden timbers tied together into a raft, as shown in the figure. Half of the top row of the timbers is above the water surface. Determine the minimum tension of the two ropes holding the timbers together, if the mass of each log is $m$. The raft is very wide.\n",
    "\n",
    "**Solution**\n",
    "\n",
    "Let's denote water density as $\\rho$ and the volume of each timber as $V$. Let's refer to forces, acting between the timbers and between a tibmer and a rope as $N$ and $F$ respectively. We can express the equillibrium of a bottom and of a top timbers separately using vertical components of forces acting on them:\n",
    "\n",
    "$$\\tag{1}\n",
    "    \\begin{cases}\n",
    "        2F - N\\sqrt{3} - mg + \\rho V g = 0 \\\\\n",
    "        -2F + N\\sqrt{3} - mg + \\frac{1}{2} \\rho V g = 0\n",
    "    \\end{cases}\\Rightarrow -6F + N\\sqrt{3} - mg = 0\n",
    "$$\n",
    "\n",
    "\n",
    "Note that we have $2F$ in each of the equations above for the force the ropes push timber downwards or upwards because we have two ropes one at the front and another at the back of the raft.\n",
    "\n",
    "Let's consider vertical components of the forces acting on the upper part of one of the ropes. Assuming that we have around $n$ timbers in each row and that the mass of the rope is negligible, we get:\n",
    "\n",
    "\\begin{equation}\\tag{2}\n",
    "n \\cdot F = 2 T\\cos\\alpha\n",
    "\\end{equation}\n",
    "\n",
    "Where $\\alpha$ - is the angle of the tension force with the vertical at the left and right edges of the raft. The tension arises from the bottom part of the rope pulling the upper part down. Since the $n$ is large, according to the problem statement, we can deduce:\n",
    "\n",
    "\\begin{equation}\\tag{3}\n",
    "F = 2 \\frac{T\\cos\\alpha}{n} \\rightarrow 0\n",
    "\\end{equation}\n",
    "\n",
    "So the equation (1) simplifies to the following:\n",
    "\\begin{equation}\\tag{4}\n",
    "3 N\\sqrt{3} - mg = 0\n",
    "\\end{equation}\n",
    "\n",
    "Now let's consider the right part of the timbers as a system and write down the equillibrium condition for horizontal components of the forces acting on it. I highlighted in red the timbers in the selected system as well as relevant forces:\n",
    "\n",
    "\\begin{equation}\\tag{5}\n",
    "\\frac{N}{2} + P_1 + P_2 - 4T = 0 \\Rightarrow 4T = \\frac{N}{2} + P_1 + P_2\n",
    "\\end{equation}\n",
    "\n",
    "where $P_1 \\geq 0$, and $P_2 \\geq 0$ - horizontal forces exerted by the neighbour timbers from the top and the bottom rows respectively onto the above selected system of the timbers. \n",
    "\n",
    "Therefore,\n",
    "\n",
    "\\begin{equation}\\tag{6}\n",
    "4 T \\geq \\frac{N}{2} \\Rightarrow T_{\\min} = \\frac{N}{8} \\Rightarrow N = 8 T_{\\min}\n",
    "\\end{equation}\n",
    "\n",
    "Then substituting the above expression for $N$ into equation (4) we get: \n",
    "\n",
    "\\begin{equation}\\tag{7}\n",
    "24 T_{\\min}\\sqrt{3} - mg = 0 \\Rightarrow \\boxed{T_{\\min} = \\frac{mg}{24\\sqrt{3}} = \\frac{mg\\sqrt{3}}{72}}\n",
    "\\end{equation}\n",
    "\n",
    "The above result is the same as in the newer edition of the book. At this point, I am not sure how the answer in the old edition of the book was obtained, because if we forget about one rope, the $T_{\\min}'$ would be two times greater then the correct one, but in the older edition the tension is $4 T_{\\min}$ for some reason...."
   ]
  },
  {
   "cell_type": "markdown",
   "metadata": {},
   "source": []
  },
  {
   "cell_type": "markdown",
   "metadata": {},
   "source": []
  }
 ],
 "metadata": {
  "language_info": {
   "name": "python"
  }
 },
 "nbformat": 4,
 "nbformat_minor": 2
}
