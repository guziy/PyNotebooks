{
 "cells": [
  {
   "cell_type": "markdown",
   "metadata": {},
   "source": [
    "## Physics problem: determining the tension of ropes tying together timbers of a raft\n",
    "\n",
    "This problem comes from my usual source of inspiration, the book by Savchenko et al., from the section on floating bodies and Archimedes' force. I spent a considerable amount of time to figure this one out, mostly because the answers in the edition I have and in the newer edition do not match. Another reason I could not get the correct answer is that I did not think that we should account that there are actually two ropes one at the front and the second is at the back of the raft.\n",
    "\n",
    "**Here is the problem statement:** Consider two rows of wooden timbers tied together into a raft, as shown in the figure. Half of the top row of the timbers is above the water surface. Determine the minimum tension of the two ropes holding the timbers together, if the mass of each log is $m$. The raft is very wide.\n",
    "\n",
    "**Solution**\n",
    "\n",
    "Let's denote water density as $\\rho$ and the volume of each timber as $V$. Let's refer to forces, acting between the timbers and between a tibmer and a rope as $N$ and $F$ respectively. We can express the equillibrium of a bottom and of a top timbers separately using vertical components of forces acting on them:\n",
    "\n",
    "$$\\tag{1}\n",
    "    \\begin{cases}\n",
    "        2F - N\\sqrt{3} - mg + \\rho V g = 0 \\\\\n",
    "        -2F + N\\sqrt{3} - mg + \\frac{1}{2} \\rho V g = 0\n",
    "    \\end{cases}\\Rightarrow -6F + N\\sqrt{3} - mg = 0\n",
    "$$\n",
    "\n",
    "\n",
    "Note that we have $2F$ in each of the equations above for the force the ropes push timber downwards or upwards because we have two ropes one at the front and another at the back of the raft.\n",
    "\n",
    "Let's consider vertical components of the forces acting on th eupper part of one of the ropes. Assuming that we have around $n$ timbers in each row and that the mass of the rope is negligible, we get:\n",
    "\n",
    "\\begin{equation}\\tag{2}\n",
    "n \\cdot F = 2 T\\cos\\alpha\n",
    "\\end{equation}\n",
    "\n",
    "Where $\\alpha$ - is the angle of the tension force with the vertical. The tension arises from the bottom part of the rope pulling the upper part down. Since the $n$ is large, according to the problem statement, we can deduce:\n",
    "\n",
    "\\begin{equation}\\tag{3}\n",
    "F = 2 \\frac{T\\cos\\alpha}{n} \\rightarrow 0\n",
    "\\end{equation}\n",
    "\n",
    "So the equation (1) simplifies to the following:\n",
    "\\begin{equation}\\tag{4}\n",
    "N\\sqrt{3} - mg = 0\n",
    "\\end{equation}\n",
    "\n"
   ]
  },
  {
   "cell_type": "markdown",
   "metadata": {},
   "source": []
  },
  {
   "cell_type": "markdown",
   "metadata": {},
   "source": []
  }
 ],
 "metadata": {
  "language_info": {
   "name": "python"
  }
 },
 "nbformat": 4,
 "nbformat_minor": 2
}
