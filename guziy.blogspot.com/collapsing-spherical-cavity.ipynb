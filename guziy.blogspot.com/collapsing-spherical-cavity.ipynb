{
 "cells": [
  {
   "cell_type": "markdown",
   "id": "5fb68ad7-d0ed-47be-83e5-d506b8d75163",
   "metadata": {},
   "source": [
    "## Collapsing spherical cavity (bubble) in a water pond\n",
    "\n",
    "#### Problem statement\n",
    "\n",
    "Consider a collapsing spherical cavity in a large pond of water. The pressure of water in the pond is $P$, the initial radius of the cavity is $R_0$. Determine the speed of the edge of the cavity when it radius reaches $r_0$ ($r_0 < R_0$). Water density is $\\rho$.\n",
    "\n",
    "#### Discussion\n",
    "\n",
    "I did not plan on writing up this problem as it seemed trivial to me at first. I thought, ok there is some kind of differential equation to compose and solve. \n",
    "\n",
    "I tried to use the Newton's law and the energy conservation equation approaches but could not really get it. \n",
    "\n",
    "I asked ChatGPT, and it came up with a solution based on the energy balance equation, the solution did resemble the correct one but it was off by a constant factor. ChatGPT mentioned the [Rayleigh-Plesset](https://en.wikipedia.org/wiki/Rayleigh%E2%80%93Plesset_equation) equation which helped me to come up with my solution below. But here I decided to base the solution on the Newton's equation of motion to be able to present a self-contained solution, at least from my stand point.\n",
    "\n",
    "#### Solution\n",
    "\n",
    "\n",
    "\n",
    "\n"
   ]
  },
  {
   "cell_type": "code",
   "execution_count": null,
   "id": "7f7c3a6f-8be5-480f-b428-3e73d554a068",
   "metadata": {},
   "outputs": [],
   "source": []
  }
 ],
 "metadata": {
  "kernelspec": {
   "display_name": "py3.11",
   "language": "python",
   "name": "py3.11"
  },
  "language_info": {
   "codemirror_mode": {
    "name": "ipython",
    "version": 3
   },
   "file_extension": ".py",
   "mimetype": "text/x-python",
   "name": "python",
   "nbconvert_exporter": "python",
   "pygments_lexer": "ipython3",
   "version": "3.11.8"
  }
 },
 "nbformat": 4,
 "nbformat_minor": 5
}
