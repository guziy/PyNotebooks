{
 "cells": [
  {
   "cell_type": "markdown",
   "id": "5fb68ad7-d0ed-47be-83e5-d506b8d75163",
   "metadata": {},
   "source": [
    "## Collapsing spherical cavity (bubble) in a water pond\n",
    "\n",
    "#### Problem statement\n",
    "\n",
    "Consider a collapsing spherical cavity in a large pond of water. The initial pressure of water in the pond is $P$, the initial radius of the cavity is $R_0$. Determine the speed of the edge of the cavity when it radius reaches $r_0$ ($r_0 < R_0$). Water density is $\\rho$.\n",
    "\n",
    "#### Discussion\n",
    "\n",
    "I did not plan on writing up this problem as it seemed trivial to me at first. I thought, ok there is some kind of differential equation to compose and solve. \n",
    "\n",
    "I tried to use the Newton's law and the energy conservation equation approaches but could not really get it. \n",
    "\n",
    "I asked ChatGPT, and it came up with a solution based on the energy balance equation, the solution did resemble the correct one but it was off by a constant factor. ChatGPT mentioned the [Rayleigh-Plesset](https://en.wikipedia.org/wiki/Rayleigh%E2%80%93Plesset_equation) equation which helped me to come up with my solution below. But here I decided to base the solution on the Newton's equation of motion to be able to present a self-contained solution, at least from my stand point.\n",
    "\n",
    "#### Solution\n",
    "\n",
    "Let's consider a water parcel at a distance $x$ from the center of the cavity $C$ (see the figure below). \n",
    "\n",
    "The pressure gradient will act to accelerate the parcel towards the point $C$.\n",
    "\n",
    "\\begin{equation}\n",
    "\\rho \\frac{dv}{dt} = -\\frac{\\partial P}{\\partial x}\n",
    "\\end{equation}\n",
    "\n",
    "where $v=v(x, t)$ - is velocity of the water parcel at the distance $x$ from the center of the collapsing hollow cavity at time $t$.\n",
    "\n",
    "We can express the derivative of $v(x(t), t)$ in the above equation by assuming that the parcell travels along a tragectory $x(t)$ and employing the compound function differentiation formula:\n",
    "\n",
    "\\begin{align*}\n",
    "\\frac{dv}{dt} &= \\frac{\\partial v}{\\partial t} + \\frac{\\partial v}{\\partial x} \\frac{d x}{d t} \\\\\n",
    "              &= \\frac{\\partial v}{\\partial t} + v\\frac{\\partial v}{\\partial x} \n",
    "\\end{align*}\n",
    "\n",
    "Therefore, the equation of motion takes the following form (this is also known as an Euler form of the equation of motion):\n",
    "\\begin{align}\n",
    "\\frac{\\partial v}{\\partial t} + v\\frac{\\partial v}{\\partial x} = -\\frac{1}{\\rho}\\frac{\\partial P}{\\partial x}\n",
    "\\end{align}"
   ]
  },
  {
   "cell_type": "code",
   "execution_count": null,
   "id": "7f7c3a6f-8be5-480f-b428-3e73d554a068",
   "metadata": {},
   "outputs": [],
   "source": []
  }
 ],
 "metadata": {
  "kernelspec": {
   "display_name": "py3.11",
   "language": "python",
   "name": "py3.11"
  },
  "language_info": {
   "codemirror_mode": {
    "name": "ipython",
    "version": 3
   },
   "file_extension": ".py",
   "mimetype": "text/x-python",
   "name": "python",
   "nbconvert_exporter": "python",
   "pygments_lexer": "ipython3",
   "version": "3.11.8"
  }
 },
 "nbformat": 4,
 "nbformat_minor": 5
}
