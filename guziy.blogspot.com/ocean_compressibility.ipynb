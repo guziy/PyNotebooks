{
 "cells": [
  {
   "cell_type": "markdown",
   "metadata": {},
   "source": [
    "## Physics problem: ocean compressibility\n",
    "\n",
    "This problem is not complicated, but it is particularly interesting to me as it is related to my work: modelling of the ocean, especially dynamics and everything impacting water level. I took it from the book by Savchenko et al., in the section on deformations.\n",
    "\n",
    "#### Problem statement\n",
    "\n",
    "Assuming that compressibility of water is $\\alpha=5\\times 10^{-10}\\; {\\rm Pa^{-1}}$ and the mean ocean depth is around 3.5 km, answer the following questions:\n",
    "\n",
    "1. Estimate change in water level if water becomes incompressible.\n",
    "1. At some places the ocean is 10 km deep. Estimate the change of water density between the 10 km depth and the surface.\n",
    "1. What is the deformation energy stored in 1 ${\\rm m^3}$ of water at the 10 km depth?\n",
    "\n",
    "\n",
    "#### Solution\n",
    "\n",
    "It is probably easy to show that the weight of atmosphere is negligible in comparison with the weight of water pushing and compressing the ocean. Therefore I will neglect the impacts of atmospheric pressure for this problem and will assume that the only cause for the compression of the ocean is its weight.\n",
    "\n",
    "\n",
    "First, let's remember the definition of compressibility, i.e. relative change of volume per unit change of pressure:\n",
    "\n",
    "$$\n",
    "\\frac{dV}{V} = \\alpha \\cdot dP\n",
    "$$\n",
    "\n",
    "where $V, P$ are the volume and pressure respectively.\n",
    "\n",
    "##### Q1: Estimate change in water level if water becomes incompressible.\n",
    "\n",
    "To figure out the change of the water level we divide the ocean into horizontal layers of width $dz$ and then we calculate compression of each layer due to the weight of water above it. Finally, we can find the water level rise by summing the compressions for all layers.\n",
    "\n",
    "\n",
    "If we denote the compression of layer $dz$ at depth $z$ as $dh$, we can use the definition of compression coefficient as follows (and using $\\rho$ for water density, assuming that at the surface $\\rho(0)=10^3\\;{\\rm kg/m^3}$):\n",
    "\n",
    "$$\n",
    "\\frac{\\delta (dV)}{d V}=\\frac{dh}{dz + dh} = \\alpha \\cdot P(z) = \\alpha \\cdot \\int\\limits_{0}^{z} \\rho(y)\\:g\\:dy\n",
    "$$\n",
    "\n",
    "\n",
    "##### Q2: At some places the ocean is 10 km deep. Estimate the change of water density between the 10 km depth and the surface.\n",
    "\n",
    "##### Q3: What is the deformation energy stored in 1 ${\\rm m^3}$ of water at the 10 km depth?\n"
   ]
  },
  {
   "cell_type": "code",
   "execution_count": null,
   "metadata": {},
   "outputs": [],
   "source": []
  }
 ],
 "metadata": {
  "kernelspec": {
   "display_name": "Python 3",
   "language": "python",
   "name": "python3"
  },
  "language_info": {
   "codemirror_mode": {
    "name": "ipython",
    "version": 3
   },
   "file_extension": ".py",
   "mimetype": "text/x-python",
   "name": "python",
   "nbconvert_exporter": "python",
   "pygments_lexer": "ipython3",
   "version": "3.7.3"
  }
 },
 "nbformat": 4,
 "nbformat_minor": 4
}
