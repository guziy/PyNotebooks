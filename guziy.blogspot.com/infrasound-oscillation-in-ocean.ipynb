{
 "cells": [
  {
   "attachments": {},
   "cell_type": "markdown",
   "metadata": {},
   "source": [
    "This problem is about infrasound oscillations in an ocean column, it is taken from Savchenko et. al. (1981). And the question is as follows.\n",
    "\n",
    "What ocean depth would allow development of physiologically dangerous infrasound oscillations at a linear frequency of $\\nu=7\\;{\\rm Hz}$.\n",
    "\n",
    "My approach is to examine modes allowed by the ocean column assuming that we have a displacement node at the ocean floor and a displacement antinode at the ocean surface. That is when a forced oscillation is excited by some external forcing (e.g wind) only the modes corresponding to the natural (eigen) frequencies would be reinforced by a resonance. I assume that we have an antinode at the surface as the surface is much less constrained than the deeper water layers.\n",
    "\n",
    "Using a general equation for the modes (also known as standing waves, which could be combined to approximate any solution to the wave equation, provided the standing wave components satisfy imposed boundary conditions). The displacement $\\Psi_m(z, t)$ in such a standing wave is expressed as follows, assuming $z=0$ at the bottom of the ocean.\n",
    "\n",
    "\\begin{equation}\n",
    "\\Psi_m(z, t) = A_m \\sin \\left( k_m z \\right) \\sin\\left(\\omega_m t + \\alpha_m \\right)\n",
    "\\end{equation}\n",
    "\n",
    "Where $k_m=\\frac{\\omega_m}{c}=\\frac{2\\pi\\nu_m}{c}$ and $c$ - is the speed of sound in the ocean. It is interesting to note here that all the points in the standing wave oscillate at the same frequency $\\omega_m$.\n",
    "\n",
    "These $\\Psi_m(z, t)$ automatically satisfy the node condition at the ocean floor. Now we are interested in the frequencies $\\nu_m=\\nu=7\\; {\\rm Hz}$ and impose the antinode condition at the ocean surface, i.e. $z=H_n$:\n",
    "\n",
    "\\begin{equation}\n",
    " \\sin \\left( k_m H_n \\right) = 1 \\Rightarrow k_m H_n = \\frac{\\pi}{2} + n \\pi\n",
    "\\end{equation}\n",
    "\n",
    "where $n = 0,1,2,3,... $.\n",
    "\n",
    "From the above we can determine $H_n$, by setting $\\nu_m = \\nu$:\n",
    "\n",
    "\\begin{split}\n",
    "k_m H_n = \\frac{\\pi}{2} + n \\pi & \\Rightarrow \\\\\n",
    "\\frac{2\\pi\\nu_m}{c} H_n = \\frac{\\pi}{2} + n \\pi & \\Rightarrow \\\\\n",
    "H_n=\\frac{c}{4 \\nu} \\left(2 n + 1 \\right)\n",
    "\\end{split}\n",
    "\n",
    "The above results approximately (assuming $c\\approx 1500 \\; {\\rm m/s}$) in the following values for the ocean depth\n",
    "\n",
    "\\begin{split}\n",
    "& H_0 = 50\\;{\\rm m} \\\\\n",
    "& H_1 = 150\\;{\\rm m} \\\\\n",
    "& H_2 = 250\\;{\\rm m} \\\\\n",
    "& H_3 = 350\\;{\\rm m} \\\\\n",
    "& H_4 = 450\\;{\\rm m} \\\\\n",
    "& ...\n",
    "\\end{split}\n",
    "\n",
    "Which looks ok to me, but unfortunately this is not the answer given in the book, and it really annoyed me for some time. And I am still not sure why but the authors advance that $H_n = \\frac{c}{4 \\nu} \\left(4 n + 1 \\right)$ instead of the $H_n =  \\frac{c}{4 \\nu} \\left(2 n + 1 \\right)$ obtained above. It seems like the depths $H_n = \\frac{c}{4 \\nu} \\left(4 n - 1 \\right)$ are not suitable for some reason. If someone can explain this to me, that would be great ... But for now I am leaving it here hoping that maybe they simply forgot to consider these solutions."
   ]
  },
  {
   "cell_type": "markdown",
   "metadata": {},
   "source": []
  }
 ],
 "metadata": {
  "language_info": {
   "name": "python"
  },
  "orig_nbformat": 4
 },
 "nbformat": 4,
 "nbformat_minor": 2
}
