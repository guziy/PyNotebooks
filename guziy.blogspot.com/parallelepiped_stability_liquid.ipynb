{
 "cells": [
  {
   "cell_type": "markdown",
   "id": "112b107d-320e-48ea-acee-a5f6011243b7",
   "metadata": {},
   "source": [
    "# Stability of a rectangular box floating on the surface of a liquid\n",
    "\n",
    "This problem, as many of the previous discussed here, is coming from the Savchenko et al book. It took me around one month to wrap my head around this one. I have to admit that I improved (or refreshed) my knowledge of Archimedes' force thanks to this one. Specifically, this problem highlights the fact that Archimedes' force is applied to the center of mass of the water replaced by a floating object. Therefore, even if the object's density is uniform, it can happen that the torques of the gravity force and the Archimedes' force are not compensated even though the modules of the forces are equal. This fact makes more interesting the question about the stability of a floating object in a liquid.\n",
    "\n",
    "**Problem statement**\n",
    "\n",
    "Given a rectangular body of length $a$, width $a$, and height $b$. Its density is $\\rho$ and it floats in a liquid of density $\\rho_0$. Determine the ratio $\\frac{a}{b}$ for which the object's equillibrium state is stable. It is assumed that the longest side of the box $b$ is vertical.\n",
    "\n",
    "**Discussion**\n",
    "\n",
    "It is obvious that the object's equllibrium is stable with respect to vertical displacements, because if we push it down the Archimedes' force increases and pushes it back. Similarly, if we pull the object up the Archimedes' force becomes smaller and the gravity pushes it back to its initial equillibrium position where the gravity force is compensated by the Archimedes' force. Therefore, further down we consider only stability of the object with respect to rotations.\n",
    "\n",
    "Here we can speculate a bit. Intuitively we would expect that the larger base (i.e. greater $a$) with respect to the height $b$ would give us a more stable equillibrium. Hence we can expect the result to be in a form $\\frac{a}{b} > r$ or $\\frac{a}{b} \\geq r$. \n",
    "\n",
    "If we denote the height of submerged part of the box as $h$, then we have three cases: the center of mass of the box is above ($b/2 > h$), on ($b/2 = h$) and below ($b/2 < h$) the surface of the liquid. \n"
   ]
  },
  {
   "cell_type": "code",
   "execution_count": null,
   "id": "2e441331-baa5-4b41-9394-8bf072791e49",
   "metadata": {},
   "outputs": [],
   "source": []
  }
 ],
 "metadata": {
  "kernelspec": {
   "display_name": "Python 3 (ipykernel)",
   "language": "python",
   "name": "python3"
  },
  "language_info": {
   "codemirror_mode": {
    "name": "ipython",
    "version": 3
   },
   "file_extension": ".py",
   "mimetype": "text/x-python",
   "name": "python",
   "nbconvert_exporter": "python",
   "pygments_lexer": "ipython3",
   "version": "3.10.0"
  }
 },
 "nbformat": 4,
 "nbformat_minor": 5
}
