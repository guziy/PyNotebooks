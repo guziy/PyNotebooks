{
 "cells": [
  {
   "cell_type": "markdown",
   "id": "f2cd669a-8167-46e9-b4f5-ceaeb0ec4562",
   "metadata": {},
   "source": [
    "# Physics problem: viscous flow between two horizontal planes\n",
    "\n",
    "### Problem statement\n",
    "\n",
    "Determine velocity of fluid in a stationary flow between two fixed horizontal plates as a function of position between the two plates. The distance between the planes is $h$ and the dynamic viscosity of the fluid is $\\eta$. The pressure drop in the direction of the flow per unit length is $\\frac{dP}{dx}=-\\Delta P$. Additionally, compute the fluid discharge per unit of horizontal length perpendicular to the flow.\n",
    "\n",
    "**Problem statement is taken from Savchenko et al (1981) book and translated by the post author.**\n",
    "\n",
    "### Solution\n",
    "\n",
    "Tihs is not a praticularly complicated problem, but I find it important for understanding the momentum exchanges between layers of viscous fluids and it does not require very deep knowledge of the process but allows us to draw some interesting insights.\n",
    "\n",
    "Let's introduce a coordinate system with $x$-axis along and pointing in the direction of flow, $z$-axis in the vertical direction upwards, and $y$-axis in the horizontal direction transversal to the flow and perpendicular to the plane formed by $x$ and $z$ axes. The origin of the coordinate system $O$ is on the lower plate (see Figure 1).\n",
    "\n",
    "Since the flow is stationary and horizontally uniform the flow velocity is only a function of the vertical coordinate $z$: $v(z)$.\n",
    "\n",
    "We assume a non-slip boundary condition near the horizontal plates: $v(z=0)=v(z=h)=0$. Additionally, we assume that the stress (friction force per unit of contact area between horizontal layers of the fluid, $\\tau_x$) due to viscosity decreases towards the line of symmetry of the flow: $z=h/2$, i.e the layers of the fluid closer to the middle have higher velocities. Therefore, we can determine $v(z)$ for $z \\in [0, h/2]$ and then use the symmetry of the flow to find the velocity for $z \\in [h/2, h]$.\n",
    "\n",
    "\n",
    "Let's consider a small element of fluid with dimensions $(dx, dy, dz)$ with it's lower face at $z \\in [0, h/2]$ and parallel to the axes $x$ and $y$.\n",
    "Assuming that the viscous stress $x$-coordinate $\\tau_x(z)$ is negative, we can express the balance of the forces acting on the selected element of fluid along the $x$-axis as follows:\n"
   ]
  },
  {
   "cell_type": "code",
   "execution_count": null,
   "id": "1aca47d1-55d5-4acd-813d-d72be2e28013",
   "metadata": {},
   "outputs": [],
   "source": []
  }
 ],
 "metadata": {
  "kernelspec": {
   "display_name": "py3.11",
   "language": "python",
   "name": "py3.11"
  },
  "language_info": {
   "codemirror_mode": {
    "name": "ipython",
    "version": 3
   },
   "file_extension": ".py",
   "mimetype": "text/x-python",
   "name": "python",
   "nbconvert_exporter": "python",
   "pygments_lexer": "ipython3",
   "version": "3.11.8"
  }
 },
 "nbformat": 4,
 "nbformat_minor": 5
}
