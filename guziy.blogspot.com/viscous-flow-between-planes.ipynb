{
 "cells": [
  {
   "cell_type": "markdown",
   "id": "f2cd669a-8167-46e9-b4f5-ceaeb0ec4562",
   "metadata": {},
   "source": [
    "# Physics problem: viscous flow between two horizontal planes\n",
    "\n",
    "### Problem statement\n",
    "\n",
    "Determine velocity of fluid in a stationary flow between two fixed horizontal planes as a function of position between the two planes. The distance between the planes is $h$ and the dynamic viscosity of the fluid is $\\eta$. The pressure drop in the direction of the flow per unit length is $\\frac{dP}{dx}=-\\Delta P$. Additionally, compute the fluid discharge per unit of horizontal length perpendicular to the flow.\n",
    "\n",
    "**Problem statement is taken from Savchenko et al (1981) book and translated by the post author.**\n",
    "\n",
    "### Solution\n",
    "\n",
    "Tihs is not a praticularly complicated problem, but I find it important for understanding the momentum exchanges between layers of viscous fluids and it does not require very deep knowledge of the process but allows us to draw some interesting insights."
   ]
  },
  {
   "cell_type": "code",
   "execution_count": null,
   "id": "1aca47d1-55d5-4acd-813d-d72be2e28013",
   "metadata": {},
   "outputs": [],
   "source": []
  }
 ],
 "metadata": {
  "kernelspec": {
   "display_name": "py3.11",
   "language": "python",
   "name": "py3.11"
  },
  "language_info": {
   "codemirror_mode": {
    "name": "ipython",
    "version": 3
   },
   "file_extension": ".py",
   "mimetype": "text/x-python",
   "name": "python",
   "nbconvert_exporter": "python",
   "pygments_lexer": "ipython3",
   "version": "3.11.8"
  }
 },
 "nbformat": 4,
 "nbformat_minor": 5
}
