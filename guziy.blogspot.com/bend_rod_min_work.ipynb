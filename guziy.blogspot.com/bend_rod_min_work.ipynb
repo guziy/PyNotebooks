{
 "cells": [
  {
   "cell_type": "markdown",
   "metadata": {},
   "source": [
    "# Minimum work required to bend a metallic rod\n",
    "\n",
    "\n",
    "This problem is from the section on deformations obbeying the linear relation between reaction force and \n",
    "deformation length. This one requires knowledge of Young modulus which allows to express reaction force as a function of relative deformation. In one-dimensional case the law looks as follows:\n",
    "\n",
    "$$\n",
    "\\sigma = E\\varepsilon\n",
    "$$\n",
    "\n",
    "where $\\sigma=F/A$ is the reaction tension (${\\rm N/m^2}$) of the material in response to the relative deformation $\\varepsilon=\\Delta L / L$.\n",
    "\n",
    "This problem is taken from the book Savchenko et al and took me some time to understand it to my satisfaction, therefore it is written up here.\n",
    "\n",
    "### Problem statement\n",
    "Determine the **minimum** amount of work required to bend a rod of length $l$ with square cross section ($a \\times a$) into a ring. Young modulus of the material is $E$ and $l \\gg a$.\n",
    "\n"
   ]
  },
  {
   "cell_type": "code",
   "execution_count": null,
   "metadata": {},
   "outputs": [],
   "source": []
  }
 ],
 "metadata": {
  "kernelspec": {
   "display_name": "Python 3",
   "language": "python",
   "name": "python3"
  },
  "language_info": {
   "codemirror_mode": {
    "name": "ipython",
    "version": 3
   },
   "file_extension": ".py",
   "mimetype": "text/x-python",
   "name": "python",
   "nbconvert_exporter": "python",
   "pygments_lexer": "ipython3",
   "version": "3.7.3"
  }
 },
 "nbformat": 4,
 "nbformat_minor": 4
}
