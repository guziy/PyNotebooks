{
 "cells": [
  {
   "cell_type": "markdown",
   "metadata": {},
   "source": [
    "# Physics problem: Horizontal cylindric water pump\n",
    "\n",
    "This one is not particularly complicated, but it made me think about two important points which I would like to share here. \n",
    "First, let me give you the problem statement so you can decide for yourself if the post is worth your time.\n",
    "\n",
    "**Problem statement**\n",
    "\n",
    "A pump consists of a cylinder with a piston. The cylinder is positioned horizontally. The piston's *active* pushing area is $A$. There is a \n",
    "hole of area $a$, in the middle of the piston. The piston is pushing water to the left and the water is flowing out to the right through the hole.\n",
    "The force $F$ is applied to the piston to make it move to the left with a constant velocity. Assuming that the flow is laminar and stationary ($\\frac{\\partial X}{\\partial t} = 0$), determine the flow velocity of the liquid through the hole.\n",
    "\n",
    "\n",
    "[Source: Savchenko et al 1981 physics problems book]\n",
    "\n",
    "\n",
    "**Solution**\n",
    "\n",
    "One thing that we need to realize is that wa are asked to compute the outflow speed of the water relative to the piston.\n",
    "\n",
    "Another one, which is important to get the same answer as in the source physics problem book, is to realize that the total cross-section area of the cylinder is $A+a$.\n",
    "\n",
    "Now that these two points are clarified we can switch to the reference system moving to the left with the piston. In this reference system the water flows to the right and through the hole. Let's denote the speed of water to the left from the piston and to the right from the piston as $u$ and $v$ respectively. Therefore the speed $v$ is the actual outflow speed we are asked to compute here. Let's denote the pressure to the left and to the right from the piston as $P_1$ and $P_2$ respectively.\n",
    "\n",
    "Let's write down the following three constraints imposed onto the pump system in the form of equations.\n",
    "\n",
    "1. The second Newton's law applied to the piston yields:\n",
    "   \n",
    "   $$\n",
    "   F = \\left( P_1 - P_2 \\right) \\cdot A\n",
    "   $$\n",
    "1. The energy conservation law applied to a unit volume of the water (or else known as Bernoulli's law) yields:\n",
    "   \n",
    "   $$\n",
    "   P_1 + \\rho \\frac{u^2}{2} = P_2 + \\rho \\frac{v^2}{2}\n",
    "   $$\n",
    "1. The continuity equation yields:\n",
    "   \n",
    "   $$\n",
    "   u \\cdot A = v \\cdot a\n",
    "   $$\n",
    "\n",
    "Above, we have three equations and three unknowns to be found are $u$, $v$, and $P_1 - P_2$.\n",
    "By solving the above system of equations we obtain the following expression for the outflow speed $v$:\n",
    "\n",
    "$$\n",
    "\\boxed{v = \\sqrt{\\frac{2FA}{\\rho (A^2 - a^2)}}}\n",
    "$$\n"
   ]
  },
  {
   "cell_type": "markdown",
   "metadata": {},
   "source": []
  }
 ],
 "metadata": {
  "language_info": {
   "name": "python"
  }
 },
 "nbformat": 4,
 "nbformat_minor": 2
}
