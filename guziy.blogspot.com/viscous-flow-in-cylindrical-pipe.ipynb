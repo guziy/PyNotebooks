{
 "cells": [
  {
   "cell_type": "markdown",
   "id": "eb4284f5-3d06-4f90-961e-a352a6e13f5c",
   "metadata": {},
   "source": [
    "\n",
    "# Physics problem: viscous flow in a cylindrical pipe\n",
    "\n",
    "This problem is related to the [previous](https://guziy.blogspot.com/2025/08/physics-problem-viscous-flow-between.html) one, where we discussed a setup with a fluid flow between two horizontal plates. The solution method is very similar, with a difference that here we select a cylindrical element and consider forces acting on it. \n",
    "\n",
    "### Problem statement\n",
    "A liquid is pumped from one container to another through a long pipe of radius $R$ and length $l$. Determine the flow velocity in the pipe as a function of distance to its axis (i.e. to the center of the cyllinder). Given that the pressure drop between the two ends of the pipe is $\\Delta P$ and the dynamic viscosity of the liquid is $\\eta$.\n",
    "\n",
    "**Problem statement is taken from Savchenko et al (1981) book and translated by the post author.**\n",
    "\n",
    "### Solution\n",
    "\n",
    "Exploiting the symmetry around the axis of the pipe we select a coaxial cylinder of radius $r$ in the flow and investigate forces acting on it.\n",
    "\n",
    "If we denote the viscosity stress along the cylinder's sides and parallel to its axis as $\\tau_x(r)$, then we can write the balance of the viscous and pressure gradient forces acting on it, along the $x$-axis, as:\n",
    "\n",
    "\\begin{align*}\n",
    "& \\tau_x(r) \\cdot 2\\pi r l + \\Delta P \\cdot \\pi r^2 = 0 & \\Rightarrow \\\\\n",
    "& \\tau_x(r) = -\\frac{\\Delta P r}{2 l} &\n",
    "\\end{align*}\n",
    "\n",
    "Now we can use the expression linking viscous stress and flow velocity gradient through the dynamic viscosity to determine the flow velocity as follows:\n",
    "\n",
    "\\begin{align*}\n",
    "& \\tau_x(r) = -\\frac{\\Delta P r}{2 l} =  \\eta \\frac{dv}{dr} & \\Rightarrow \\\\\n",
    "& \\frac{dv}{dr} = -\\frac{\\Delta P r}{2 l \\eta} & \\Rightarrow \\\\\n",
    "& \\int\\limits_{R}^{r} \\frac{dv}{dr}\\,dr = -\\int\\limits_{R}^{r}\\frac{\\Delta P r}{2 l \\eta}\\,dr & \\Rightarrow \\\\\n",
    "& v(r) - v(R) = -\\frac{\\Delta P \\left( r^{2} - R^{2} \\right) }{4 l \\eta} \\\\\n",
    "\\end{align*}\n",
    "\n",
    "Now using the non-slip condition at the pipe walls (i.e. $v(R) = 0$), we get the final expression for the flow velocity at a distance $r$ from the pipe axis:\n",
    "\\begin{align*}\n",
    "\\boxed{ v(r) = -\\frac{\\Delta P \\left( r^{2} - R^{2} \\right) }{4 l \\eta} }.\n",
    "\\end{align*}\n"
   ]
  }
 ],
 "metadata": {
  "kernelspec": {
   "display_name": "py3.11",
   "language": "python",
   "name": "py3.11"
  },
  "language_info": {
   "codemirror_mode": {
    "name": "ipython",
    "version": 3
   },
   "file_extension": ".py",
   "mimetype": "text/x-python",
   "name": "python",
   "nbconvert_exporter": "python",
   "pygments_lexer": "ipython3",
   "version": "3.11.8"
  }
 },
 "nbformat": 4,
 "nbformat_minor": 5
}
