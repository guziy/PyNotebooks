{
 "cells": [
  {
   "cell_type": "code",
   "execution_count": 10,
   "id": "f928b5f2",
   "metadata": {},
   "outputs": [
    {
     "data": {
      "application/vnd.jupyter.widget-view+json": {
       "model_id": "4dd0ca705d2848bd9fca503454f906cf",
       "version_major": 2,
       "version_minor": 0
      },
      "text/plain": [
       "interactive(children=(Dropdown(description='col', options=('A', 'B', 'C'), value='A'), Output()), _dom_classes…"
      ]
     },
     "metadata": {},
     "output_type": "display_data"
    }
   ],
   "source": [
    "from ipywidgets import interact\n",
    "import matplotlib.pyplot as pl\n",
    "\n",
    "import pandas as pd\n",
    "\n",
    "df = pd.DataFrame.from_dict({\"A\": [1,2,3], \"B\": [3, 4, 5], \"C\":[6, 7, 8]})\n",
    "\n",
    "@interact (col = [\"A\", \"B\", \"C\"])\n",
    "def plot(col):\n",
    "    pl.figure()\n",
    "    pl.hist( df[col]) \n",
    "    pl.show()\n",
    "\n"
   ]
  },
  {
   "cell_type": "code",
   "execution_count": 5,
   "id": "5a04a241",
   "metadata": {},
   "outputs": [],
   "source": [
    "import IPython as ipy"
   ]
  },
  {
   "cell_type": "code",
   "execution_count": null,
   "id": "255db2e5",
   "metadata": {},
   "outputs": [],
   "source": []
  }
 ],
 "metadata": {
  "kernelspec": {
   "display_name": "Python 3 (ipykernel)",
   "language": "python",
   "name": "python3"
  },
  "language_info": {
   "codemirror_mode": {
    "name": "ipython",
    "version": 3
   },
   "file_extension": ".py",
   "mimetype": "text/x-python",
   "name": "python",
   "nbconvert_exporter": "python",
   "pygments_lexer": "ipython3",
   "version": "3.9.12"
  }
 },
 "nbformat": 4,
 "nbformat_minor": 5
}
