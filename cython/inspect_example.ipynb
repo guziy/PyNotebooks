{
 "cells": [
  {
   "cell_type": "code",
   "execution_count": 2,
   "id": "3a5958eb",
   "metadata": {},
   "outputs": [],
   "source": [
    "%reload_ext Cython"
   ]
  },
  {
   "cell_type": "code",
   "execution_count": 29,
   "id": "62c4a6e7",
   "metadata": {},
   "outputs": [
    {
     "name": "stdout",
     "output_type": "stream",
     "text": [
      "['x', 'y']\n",
      "{'x': 0, 'y': 1}\n",
      "-0.14154128131955773\n",
      "1.4149587175383729 1.414958717538373\n"
     ]
    }
   ],
   "source": [
    "%%cython\n",
    "\n",
    "import numpy as np\n",
    "from functools import wraps\n",
    "import inspect\n",
    "import cython\n",
    "\n",
    "def decorate(fn):\n",
    "    \n",
    "    \n",
    "    @wraps(fn)\n",
    "    def wraper(*args, **kwargs):\n",
    "        \n",
    "        arg_names = inspect.getfullargspec(fn)[0]\n",
    "        print(arg_names)\n",
    "        \n",
    "        name_to_idx = dict(zip(arg_names, range(len(arg_names))))\n",
    "        \n",
    "        print(name_to_idx)\n",
    "        \n",
    "        return fn(*args, **kwargs)\n",
    "    return wraper\n",
    "\n",
    "@decorate\n",
    "@cython.binding(True)\n",
    "def test(double [:,:] x, int [:,:] y):\n",
    "    print(x[0, 0])\n",
    "    cdef int ni, nj\n",
    "    cdef int i, j\n",
    "    ni = x.shape[0]\n",
    "    nj = x.shape[1]\n",
    "    \n",
    "    cdef double s\n",
    "    \n",
    "    s = 0\n",
    "    for i in range(ni):\n",
    "        for j in range(nj):\n",
    "            s += x[i, j]\n",
    "            \n",
    "    return s\n",
    "\n",
    "arr = np.random.randn(5,5)\n",
    "print(test(arr, None), arr.sum())"
   ]
  },
  {
   "cell_type": "code",
   "execution_count": 25,
   "id": "4f55d403",
   "metadata": {},
   "outputs": [],
   "source": [
    "import inspect\n",
    "inspect.getfullargspec??"
   ]
  },
  {
   "cell_type": "code",
   "execution_count": null,
   "id": "c79721fa",
   "metadata": {},
   "outputs": [],
   "source": []
  }
 ],
 "metadata": {
  "kernelspec": {
   "display_name": "Python 3 (ipykernel)",
   "language": "python",
   "name": "python3"
  },
  "language_info": {
   "codemirror_mode": {
    "name": "ipython",
    "version": 3
   },
   "file_extension": ".py",
   "mimetype": "text/x-python",
   "name": "python",
   "nbconvert_exporter": "python",
   "pygments_lexer": "ipython3",
   "version": "3.10.0"
  }
 },
 "nbformat": 4,
 "nbformat_minor": 5
}
