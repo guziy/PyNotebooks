{
 "cells": [
  {
   "cell_type": "code",
   "execution_count": 6,
   "metadata": {},
   "outputs": [],
   "source": [
    "from joblib import delayed, Parallel\n",
    "import numpy as np"
   ]
  },
  {
   "cell_type": "code",
   "execution_count": 3,
   "metadata": {},
   "outputs": [],
   "source": [
    "def kernel(x, y):\n",
    "    return x * y"
   ]
  },
  {
   "cell_type": "code",
   "execution_count": 10,
   "metadata": {},
   "outputs": [],
   "source": [
    "x1 = np.arange(10)\n",
    "x2 = np.arange(15)\n",
    "\n",
    "delayed_store = {(x1i, x2i): delayed(kernel)(x1i, x2i) for x1i in x1 for x2i in x2}\n",
    "\n",
    "ordered_inp = list(delayed_store)\n",
    "ordered_del = [delayed_store[k] for k in ordered_inp]\n",
    "\n",
    "# actual parallel execution happens here\n",
    "ordered_res = Parallel(n_jobs=2)(ordered_del)\n",
    "\n",
    "result_store = dict(zip(ordered_inp, ordered_res))\n",
    "\n",
    "mt_list = [[result_store[x1i, x2i] for x1i in x1] for x2i in x2]\n",
    "mt_numpy = np.array(mt_list)\n"
   ]
  },
  {
   "cell_type": "code",
   "execution_count": 11,
   "metadata": {},
   "outputs": [
    {
     "data": {
      "text/plain": [
       "array([[  0,   0,   0,   0,   0,   0,   0,   0,   0,   0],\n",
       "       [  0,   1,   2,   3,   4,   5,   6,   7,   8,   9],\n",
       "       [  0,   2,   4,   6,   8,  10,  12,  14,  16,  18],\n",
       "       [  0,   3,   6,   9,  12,  15,  18,  21,  24,  27],\n",
       "       [  0,   4,   8,  12,  16,  20,  24,  28,  32,  36],\n",
       "       [  0,   5,  10,  15,  20,  25,  30,  35,  40,  45],\n",
       "       [  0,   6,  12,  18,  24,  30,  36,  42,  48,  54],\n",
       "       [  0,   7,  14,  21,  28,  35,  42,  49,  56,  63],\n",
       "       [  0,   8,  16,  24,  32,  40,  48,  56,  64,  72],\n",
       "       [  0,   9,  18,  27,  36,  45,  54,  63,  72,  81],\n",
       "       [  0,  10,  20,  30,  40,  50,  60,  70,  80,  90],\n",
       "       [  0,  11,  22,  33,  44,  55,  66,  77,  88,  99],\n",
       "       [  0,  12,  24,  36,  48,  60,  72,  84,  96, 108],\n",
       "       [  0,  13,  26,  39,  52,  65,  78,  91, 104, 117],\n",
       "       [  0,  14,  28,  42,  56,  70,  84,  98, 112, 126]])"
      ]
     },
     "execution_count": 11,
     "metadata": {},
     "output_type": "execute_result"
    }
   ],
   "source": [
    "mt_numpy"
   ]
  },
  {
   "cell_type": "code",
   "execution_count": 12,
   "metadata": {},
   "outputs": [
    {
     "data": {
      "text/plain": [
       "(15, 10)"
      ]
     },
     "execution_count": 12,
     "metadata": {},
     "output_type": "execute_result"
    }
   ],
   "source": [
    "mt_numpy.shape"
   ]
  },
  {
   "cell_type": "code",
   "execution_count": 14,
   "metadata": {},
   "outputs": [
    {
     "data": {
      "text/plain": [
       "True"
      ]
     },
     "execution_count": 14,
     "metadata": {},
     "output_type": "execute_result"
    }
   ],
   "source": [
    "# sanity check\n",
    "(mt_numpy == np.array([[kernel(x1i, x2i) for x1i in x1] for x2i in x2])).all()"
   ]
  },
  {
   "cell_type": "code",
   "execution_count": null,
   "metadata": {},
   "outputs": [],
   "source": []
  }
 ],
 "metadata": {
  "kernelspec": {
   "display_name": "py3.10",
   "language": "python",
   "name": "py3.10"
  },
  "language_info": {
   "codemirror_mode": {
    "name": "ipython",
    "version": 3
   },
   "file_extension": ".py",
   "mimetype": "text/x-python",
   "name": "python",
   "nbconvert_exporter": "python",
   "pygments_lexer": "ipython3",
   "version": "3.10.0"
  }
 },
 "nbformat": 4,
 "nbformat_minor": 2
}
